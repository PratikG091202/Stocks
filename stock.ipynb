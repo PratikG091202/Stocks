{
 "cells": [
  {
   "cell_type": "code",
   "execution_count": 1,
   "metadata": {},
   "outputs": [
    {
     "name": "stderr",
     "output_type": "stream",
     "text": [
      "C:\\Users\\prati\\AppData\\Local\\Temp\\ipykernel_6900\\2001778572.py:8: UserWarning: \n",
      "The dash_core_components package is deprecated. Please replace\n",
      "`import dash_core_components as dcc` with `from dash import dcc`\n",
      "  import dash_core_components as dcc\n",
      "C:\\Users\\prati\\AppData\\Local\\Temp\\ipykernel_6900\\2001778572.py:9: UserWarning: \n",
      "The dash_html_components package is deprecated. Please replace\n",
      "`import dash_html_components as html` with `from dash import html`\n",
      "  import dash_html_components as html\n"
     ]
    },
    {
     "name": "stdout",
     "output_type": "stream",
     "text": [
      "Dash app running on http://127.0.0.1:8051/\n"
     ]
    }
   ],
   "source": [
    "#Data Processing package\n",
    "import pandas as pd \n",
    "import datetime as dt\n",
    "#crawler the stock data package\n",
    "import pandas_datareader as web\n",
    "#making a dashboard package\n",
    "import dash\n",
    "import dash_core_components as dcc \n",
    "import dash_html_components as html\n",
    "import plotly.graph_objs as go\n",
    "from jupyter_dash import JupyterDash\n",
    "from dash.dependencies import Input, Output\n",
    "\n",
    "def update_value(input_data): \n",
    "    # Reads stock prices from 1st January 2019 \n",
    "    start = dt.datetime(2010, 1, 1)  \n",
    "    end = dt.datetime.now() \n",
    "\n",
    "    # Read stock data from yahoo's finance API from start to end  \n",
    "    df = web.DataReader(input_data, 'yahoo', start, end) \n",
    "    return df\n",
    "\n",
    "update_value('TSLA')\n",
    "\n",
    "#First the layout\n",
    "app = JupyterDash() \n",
    "app.title='Stock Visualiztion'\n",
    "app.layout = html.Div(children=[\n",
    "    html.H1('Stock Visualiztion Dashboard'),\n",
    "    html.H4('Please enter the stock name'),\n",
    "    dcc.Input(id='input', value='', type='text'),\n",
    "    html.Div(id= 'output-graph')\n",
    "])\n",
    "\n",
    "@app.callback(\n",
    "    Output(component_id='output-graph', component_property='children'),\n",
    "              [Input(component_id='input', component_property='value')])\n",
    "\n",
    "\n",
    "\n",
    "def update_value(input_data): \n",
    "    # Reads stock prices from 1st January 2019 \n",
    "    start = dt.datetime(2019, 1, 1)  \n",
    "    end = dt.datetime.now() \n",
    "\n",
    "    # Read stock data from yahoo's finance API from start to end  \n",
    "    df = web.DataReader(input_data, 'yahoo', start, end) \n",
    "    return dcc.Graph(id='demo', figure={'data':[{'x': df.index, 'y':df.Close, 'type':'line', 'name':\n",
    "                                                 input_data},], 'layout':{'title': input_data}})\n",
    "\n",
    "if __name__ == '__main__':\n",
    "    app.run_server(mode='external', port=8051)"
   ]
  }
 ],
 "metadata": {
  "kernelspec": {
   "display_name": "Python 3.10.7 64-bit (microsoft store)",
   "language": "python",
   "name": "python3"
  },
  "language_info": {
   "codemirror_mode": {
    "name": "ipython",
    "version": 3
   },
   "file_extension": ".py",
   "mimetype": "text/x-python",
   "name": "python",
   "nbconvert_exporter": "python",
   "pygments_lexer": "ipython3",
   "version": "3.10.7"
  },
  "orig_nbformat": 4,
  "vscode": {
   "interpreter": {
    "hash": "f9594b17a832683621663d404b4f97a3dbc62bb9bcd9bf3e86cb0146af66b630"
   }
  }
 },
 "nbformat": 4,
 "nbformat_minor": 2
}
